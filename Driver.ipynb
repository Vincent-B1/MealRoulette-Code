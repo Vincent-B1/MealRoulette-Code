{
 "cells": [
  {
   "cell_type": "code",
   "execution_count": 1,
   "id": "1c86a615-95b6-45dd-a5be-14937e9fe9d4",
   "metadata": {},
   "outputs": [],
   "source": [
    "import Classes\n",
    "import GUI\n",
    "import MealFrameClass\n",
    "import FunctionsOfTheGUI as Fotgui\n",
    "\n",
    "'''\n",
    "For those using jupyter notebooks, remember to restart kernal after every run. Otherise it will give you an error.\n",
    "Other than that, if you dont, just copy and paste this code into whatever you use to run code. \n",
    "So long as you've set up the other python files correctly, you should be golden.\n",
    "'''\n",
    "\n",
    "GUI.Window.mainloop() #Well, I guess the GUI wont let anything work if its opened first. Like having somthing work outside of a functions domain."
   ]
  },
  {
   "cell_type": "code",
   "execution_count": null,
   "id": "33de3b23-5386-4112-8fa5-cfdaf5a70288",
   "metadata": {},
   "outputs": [],
   "source": []
  }
 ],
 "metadata": {
  "kernelspec": {
   "display_name": "Python 3 (ipykernel)",
   "language": "python",
   "name": "python3"
  },
  "language_info": {
   "codemirror_mode": {
    "name": "ipython",
    "version": 3
   },
   "file_extension": ".py",
   "mimetype": "text/x-python",
   "name": "python",
   "nbconvert_exporter": "python",
   "pygments_lexer": "ipython3",
   "version": "3.11.7"
  }
 },
 "nbformat": 4,
 "nbformat_minor": 5
}
